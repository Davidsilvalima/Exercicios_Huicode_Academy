{
 "cells": [
  {
   "cell_type": "markdown",
   "id": "0a601f1c",
   "metadata": {},
   "source": [
    "# Exercício 1.\n",
    "### - Faça um programa que informa a versão do Pyton que está sendo utilizada"
   ]
  },
  {
   "cell_type": "code",
   "execution_count": 2,
   "id": "53f355d4",
   "metadata": {},
   "outputs": [
    {
     "name": "stdout",
     "output_type": "stream",
     "text": [
      "Versão do Python\n",
      "3.9.7 (default, Sep 16 2021, 16:59:28) [MSC v.1916 64 bit (AMD64)]\n",
      "Iinformação da versão instalada\n",
      "sys.version_info(major=3, minor=9, micro=7, releaselevel='final', serial=0)\n"
     ]
    }
   ],
   "source": [
    "import sys\n",
    "print(\"Versão do Python\")\n",
    "print(sys.version)\n",
    "\n",
    "print(\"Iinformação da versão instalada\")\n",
    "print(sys.version_info)"
   ]
  },
  {
   "cell_type": "markdown",
   "id": "44b46c9f",
   "metadata": {},
   "source": [
    "# Exercício 2.\n",
    "### Faça um programa que converta metros para centímetros:"
   ]
  },
  {
   "cell_type": "code",
   "execution_count": 4,
   "id": "574c13cd",
   "metadata": {},
   "outputs": [
    {
     "name": "stdout",
     "output_type": "stream",
     "text": [
      "\t ----Conversão de medidas---- \n",
      "Informe o valor em metros: 1\n",
      "O valor em centímetros é:  100\n"
     ]
    }
   ],
   "source": [
    "print('\\t ----Conversão de medidas---- ')\n",
    "metros = int(input('Informe o valor em metros: '))\n",
    "print('O valor em centímetros é: ', metros*100)"
   ]
  },
  {
   "cell_type": "markdown",
   "id": "d402aac6",
   "metadata": {},
   "source": [
    "# Exercício 3\n",
    "### Faça um programa que leia um valor inteiro e mostre a tabuada dele de 1 a 10:\n"
   ]
  },
  {
   "cell_type": "code",
   "execution_count": 10,
   "id": "9bcf8ccf",
   "metadata": {},
   "outputs": [
    {
     "name": "stdout",
     "output_type": "stream",
     "text": [
      "\t ----Tabuada---- \n",
      "Informe o número para ver a tabuada: 8\n",
      "\n",
      " Tabuada de  8 :\n",
      "8 x 1 = 8\n",
      "8 x 2 = 16\n",
      "8 x 3 = 24\n",
      "8 x 4 = 32\n",
      "8 x 5 = 40\n",
      "8 x 6 = 48\n",
      "8 x 7 = 56\n",
      "8 x 8 = 64\n",
      "8 x 9 = 72\n",
      "8 x 10 = 80\n"
     ]
    }
   ],
   "source": [
    "print('\\t ----Tabuada---- ')\n",
    "numero = int(input('Informe o número para ver a tabuada: '))\n",
    "print('\\n Tabuada de ', numero, ':')\n",
    "for i in range(1, 11):\n",
    "    print(numero, 'x', i, '=', (numero*i))"
   ]
  },
  {
   "cell_type": "markdown",
   "id": "7cdf4e70",
   "metadata": {},
   "source": [
    "# Exercício 4.\n",
    "### Faça um algorítimo que receba duas notas e calcule a média aritimética e mostre o resultado."
   ]
  },
  {
   "cell_type": "code",
   "execution_count": 11,
   "id": "56998063",
   "metadata": {},
   "outputs": [
    {
     "name": "stdout",
     "output_type": "stream",
     "text": [
      "\t ----Cálculo da média aritimética----\n",
      "Informe a primeira ota: 7\n",
      "Informe a segunda nota: 8\n",
      "Media araitimética= 7.5\n"
     ]
    }
   ],
   "source": [
    "print('\\t ----Cálculo da média aritimética----')\n",
    "nota1 = int(input('Informe a primeira ota: '))\n",
    "nota2 = int(input('Informe a segunda nota: '))\n",
    "media = (nota1 + nota2)/2\n",
    "print('Media araitimética' '=', media)"
   ]
  },
  {
   "cell_type": "markdown",
   "id": "df24ebf6",
   "metadata": {},
   "source": [
    "# Exercício 5.\n",
    "### Fazer um algorítimo que calcule o novo salário do funcionário de acordo com a tabela:\n",
    "  \n",
    "###  Salário atual\t                Reajuste\n",
    "###Abaixo de R$500,00\t              15%\n",
    "###R$500,00 até R$1000,00\t          10%\n",
    "###Acima de R$1000,00\t               5%\n"
   ]
  },
  {
   "cell_type": "code",
   "execution_count": 12,
   "id": "273badac",
   "metadata": {},
   "outputs": [
    {
     "name": "stdout",
     "output_type": "stream",
     "text": [
      "\t ----Cálculo do novo salário----\n",
      "Informe o salário atual: 750\n",
      "Salário com reajuste: = 825.0\n"
     ]
    }
   ],
   "source": [
    "print('\\t ----Cálculo do novo salário----')\n",
    "salario_atual = float(input('Informe o salário atual: '))\n",
    "\n",
    "if (salario_atual<500):\n",
    "    salario_novo = salario_atual+(salario_atual*0.15)\n",
    "    print('Salário com reajuste' '=', salario_novo)\n",
    "    \n",
    "if ((salario_atual>=500)and (salario_atual <=1000)):\n",
    "    salario_novo = salario_atual + ( salario_atual * 0.10)\n",
    "    print('Salário com reajuste: ''=', salario_novo)\n",
    "    \n",
    "if (salario_atual > 1000): \n",
    "    salario_novo = salario_atual + (salario_atual * 0.05)\n",
    "    print('Salário com reajuste:' '=', salario_novo)"
   ]
  },
  {
   "cell_type": "markdown",
   "id": "61365d25",
   "metadata": {},
   "source": [
    "# Exercício 6.\n",
    "### Faça um programa que mostre todos os números entre 5 e 100 que são divisíveis por 7, mas não são \n",
    "### mútiplos de 5. imprima os números em sequência:\n"
   ]
  },
  {
   "cell_type": "code",
   "execution_count": 13,
   "id": "5d0c3f8e",
   "metadata": {},
   "outputs": [
    {
     "name": "stdout",
     "output_type": "stream",
     "text": [
      "7\n",
      "14\n",
      "21\n",
      "28\n",
      "42\n",
      "49\n",
      "56\n",
      "63\n",
      "77\n",
      "84\n",
      "91\n",
      "98\n"
     ]
    }
   ],
   "source": [
    "for num in range (5, 100):\n",
    "    if (num %7 == 0 and num % 5 != 0):\n",
    "        print(num)"
   ]
  },
  {
   "cell_type": "markdown",
   "id": "dfef568e",
   "metadata": {},
   "source": [
    "# Exercício 7.\n",
    "### Faça um programa que receba um número e some todos os números de 1 até o número digitado."
   ]
  },
  {
   "cell_type": "code",
   "execution_count": 24,
   "id": "9155eb5f",
   "metadata": {},
   "outputs": [
    {
     "name": "stdout",
     "output_type": "stream",
     "text": [
      "Por favor, insira o número: 5\n",
      "A soma é =  1\n",
      "A soma é =  3\n",
      "A soma é =  6\n",
      "A soma é =  10\n",
      "A soma é =  15\n"
     ]
    }
   ],
   "source": [
    "soma_numeros = 0 \n",
    "numero = int(input(\"Por favor, insira o número: \"))\n",
    "for i in range(1, numero + 1, 1):\n",
    "    soma_numeros += i\n",
    "    print(\"A soma é = \", soma_numeros)"
   ]
  },
  {
   "cell_type": "markdown",
   "id": "064d3d81",
   "metadata": {},
   "source": [
    "# Exercício 8. \n",
    "### Faça um programa que recebendo um número inteiro, informe se o número é positivo ou negativo ou neutro "
   ]
  },
  {
   "cell_type": "code",
   "execution_count": 28,
   "id": "6cfb05ca",
   "metadata": {},
   "outputs": [
    {
     "name": "stdout",
     "output_type": "stream",
     "text": [
      "\t ---- A dança dos números---- \n",
      "Informe um número para brincar: -12\n",
      "É um número negativo!\n"
     ]
    }
   ],
   "source": [
    "print('\\t ---- A dança dos números---- ')\n",
    "X = int(input('Informe um número para brincar: '))\n",
    "if X < 0:\n",
    "    print('É um número negativo!')\n",
    "elif X == 0:\n",
    "    print('É um número neutro! ')\n",
    "elif X > 0:\n",
    "    print('É um número positivo!')"
   ]
  },
  {
   "cell_type": "markdown",
   "id": "643061a1",
   "metadata": {},
   "source": [
    "# Exercício 9.\n",
    "### Crie um algorítimo que receba um número e conte o número total de dígitos nele."
   ]
  },
  {
   "cell_type": "code",
   "execution_count": 30,
   "id": "737eb8a8",
   "metadata": {},
   "outputs": [
    {
     "name": "stdout",
     "output_type": "stream",
     "text": [
      "\t ----Contagem dos dígitos----\n",
      "Digite um número para contar seus dígitos: 2022\n",
      "Total de dígitos =  4\n"
     ]
    }
   ],
   "source": [
    "print('\\t ----Contagem dos dígitos----')\n",
    "digitos = int( input( 'Digite um número para contar seus dígitos: '))\n",
    "contador = 0\n",
    "while digitos != 0:\n",
    "    digitos //= 10\n",
    "    contador += 1\n",
    "print('Total de dígitos = ', contador)"
   ]
  },
  {
   "cell_type": "markdown",
   "id": "4bfb0bf8",
   "metadata": {},
   "source": [
    "# Exercício 10.\n",
    "### Faça um programa que lê um número n e imprime os n primeiros números da sequência de Fibonacci:"
   ]
  },
  {
   "cell_type": "code",
   "execution_count": 34,
   "id": "c238f493",
   "metadata": {},
   "outputs": [
    {
     "name": "stdout",
     "output_type": "stream",
     "text": [
      "\t ----Sequência de Fibonacci---- \n",
      "Digite a quantidade de termos para calcular:  8\n",
      "1\n",
      "1\n",
      "2\n",
      "3\n",
      "5\n",
      "8\n",
      "13\n",
      "21\n"
     ]
    }
   ],
   "source": [
    "print('\\t ----Sequência de Fibonacci---- ')\n",
    "termos = int(input('Digite a quantidade de termos para calcular:  '))\n",
    "#começando com 0 e 1 \n",
    "num1, num2 = 0, 1\n",
    "contador = 0\n",
    "while contador < termos:\n",
    "    num3 = num1 + num2\n",
    "    #atualizando valores \n",
    "    num1 = num2\n",
    "    num2 = num3\n",
    "    contador += 1 \n",
    "    print(num1)"
   ]
  },
  {
   "cell_type": "markdown",
   "id": "6f192f6d",
   "metadata": {},
   "source": [
    "# Nota:\n",
    "### A sequência de Fibonacci representa um padrão de números gerado pela soma dos dois anteriores. Com frequência, os valores da sequência são vistos na natureza e na arte, representados por espirais e pela proporção áurea(ou o número de ouro). Como exemplo da proporção áurea, temos as conchas de alguns moluscos."
   ]
  },
  {
   "cell_type": "markdown",
   "id": "764a17f3",
   "metadata": {},
   "source": [
    "# Exercício 11\n",
    "### Analise o código."
   ]
  },
  {
   "cell_type": "code",
   "execution_count": 35,
   "id": "40793876",
   "metadata": {},
   "outputs": [
    {
     "name": "stdout",
     "output_type": "stream",
     "text": [
      "15\n"
     ]
    }
   ],
   "source": [
    "x = [11, 12, 13, 14, 15]\n",
    "print(x[-1])"
   ]
  },
  {
   "cell_type": "code",
   "execution_count": null,
   "id": "9a3c1588",
   "metadata": {},
   "outputs": [],
   "source": []
  }
 ],
 "metadata": {
  "kernelspec": {
   "display_name": "Python 3 (ipykernel)",
   "language": "python",
   "name": "python3"
  },
  "language_info": {
   "codemirror_mode": {
    "name": "ipython",
    "version": 3
   },
   "file_extension": ".py",
   "mimetype": "text/x-python",
   "name": "python",
   "nbconvert_exporter": "python",
   "pygments_lexer": "ipython3",
   "version": "3.9.7"
  }
 },
 "nbformat": 4,
 "nbformat_minor": 5
}
